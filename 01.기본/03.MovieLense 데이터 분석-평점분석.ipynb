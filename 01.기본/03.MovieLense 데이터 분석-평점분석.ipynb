{
 "cells": [
  {
   "cell_type": "markdown",
   "id": "07812d29",
   "metadata": {},
   "source": [
    "# 데이터 불러오기"
   ]
  },
  {
   "cell_type": "code",
   "execution_count": 1,
   "id": "aa02bf1e",
   "metadata": {},
   "outputs": [],
   "source": [
    "import pandas as pd\n",
    "from matplotlib import pyplot as plt\n",
    "%matplotlib inline"
   ]
  },
  {
   "cell_type": "code",
   "execution_count": 2,
   "id": "362b25a7",
   "metadata": {},
   "outputs": [],
   "source": [
    "ratings_df=pd.read_csv('ratings.csv')\n",
    "tags_df=pd.read_csv('tags.csv')\n",
    "movies_df=pd.read_csv(\"movies.csv\")"
   ]
  },
  {
   "cell_type": "markdown",
   "id": "374a3410",
   "metadata": {},
   "source": [
    "- timestamp는 영화에 대한 평점을 기록한 시점. 영화가 처음 출시한 시점이 아니다"
   ]
  },
  {
   "cell_type": "code",
   "execution_count": 3,
   "id": "33c04c40",
   "metadata": {},
   "outputs": [
    {
     "name": "stdout",
     "output_type": "stream",
     "text": [
      "(100836, 4)\n",
      "   userId  movieId  rating  timestamp\n",
      "0       1        1     4.0  964982703\n",
      "1       1        3     4.0  964981247\n",
      "2       1        6     4.0  964982224\n",
      "3       1       47     5.0  964983815\n",
      "4       1       50     5.0  964982931\n"
     ]
    }
   ],
   "source": [
    "print(ratings_df.shape)\n",
    "print(ratings_df.head())"
   ]
  },
  {
   "cell_type": "code",
   "execution_count": 4,
   "id": "9250d8fa",
   "metadata": {},
   "outputs": [
    {
     "name": "stdout",
     "output_type": "stream",
     "text": [
      "(3683, 4)\n",
      "   userId  movieId              tag   timestamp\n",
      "0       2    60756            funny  1445714994\n",
      "1       2    60756  Highly quotable  1445714996\n",
      "2       2    60756     will ferrell  1445714992\n",
      "3       2    89774     Boxing story  1445715207\n",
      "4       2    89774              MMA  1445715200\n"
     ]
    }
   ],
   "source": [
    "print(tags_df.shape)\n",
    "print(tags_df.head())"
   ]
  },
  {
   "cell_type": "code",
   "execution_count": 5,
   "id": "98099686",
   "metadata": {},
   "outputs": [
    {
     "name": "stdout",
     "output_type": "stream",
     "text": [
      "(9742, 3)\n",
      "   movieId                               title  \\\n",
      "0        1                    Toy Story (1995)   \n",
      "1        2                      Jumanji (1995)   \n",
      "2        3             Grumpier Old Men (1995)   \n",
      "3        4            Waiting to Exhale (1995)   \n",
      "4        5  Father of the Bride Part II (1995)   \n",
      "\n",
      "                                        genres  \n",
      "0  Adventure|Animation|Children|Comedy|Fantasy  \n",
      "1                   Adventure|Children|Fantasy  \n",
      "2                               Comedy|Romance  \n",
      "3                         Comedy|Drama|Romance  \n",
      "4                                       Comedy  \n"
     ]
    }
   ],
   "source": [
    "print(movies_df.shape)\n",
    "print(movies_df.head())"
   ]
  },
  {
   "cell_type": "markdown",
   "id": "c519ed38",
   "metadata": {},
   "source": [
    "# 평점 데이터의 기초 통계량"
   ]
  },
  {
   "cell_type": "code",
   "execution_count": 6,
   "id": "25ba7c91",
   "metadata": {},
   "outputs": [
    {
     "name": "stdout",
     "output_type": "stream",
     "text": [
      "610\n"
     ]
    }
   ],
   "source": [
    "n_unique_users=len(ratings_df.userId.unique())\n",
    "print(n_unique_users)"
   ]
  },
  {
   "cell_type": "code",
   "execution_count": 7,
   "id": "30b4f538",
   "metadata": {},
   "outputs": [
    {
     "name": "stdout",
     "output_type": "stream",
     "text": [
      "9724\n"
     ]
    }
   ],
   "source": [
    "n_unique_movies=len(ratings_df.movieId.unique())\n",
    "print(n_unique_movies)"
   ]
  },
  {
   "cell_type": "code",
   "execution_count": 8,
   "id": "fedd5883",
   "metadata": {},
   "outputs": [
    {
     "name": "stdout",
     "output_type": "stream",
     "text": [
      "평점의 평균:  3.501556983616962\n",
      "평점의 표준편차:  1.0425292390605359\n"
     ]
    }
   ],
   "source": [
    "print('평점의 평균: ', ratings_df['rating'].mean())\n",
    "print('평점의 표준편차: ', ratings_df['rating'].std())"
   ]
  },
  {
   "cell_type": "code",
   "execution_count": 9,
   "id": "dfec667e",
   "metadata": {},
   "outputs": [
    {
     "name": "stdout",
     "output_type": "stream",
     "text": [
      "<class 'pandas.core.frame.DataFrame'>\n",
      "RangeIndex: 100836 entries, 0 to 100835\n",
      "Data columns (total 4 columns):\n",
      " #   Column     Non-Null Count   Dtype  \n",
      "---  ------     --------------   -----  \n",
      " 0   userId     100836 non-null  int64  \n",
      " 1   movieId    100836 non-null  int64  \n",
      " 2   rating     100836 non-null  float64\n",
      " 3   timestamp  100836 non-null  int64  \n",
      "dtypes: float64(1), int64(3)\n",
      "memory usage: 3.1 MB\n"
     ]
    }
   ],
   "source": [
    "ratings_df.info()"
   ]
  },
  {
   "cell_type": "code",
   "execution_count": 10,
   "id": "c18a2224",
   "metadata": {},
   "outputs": [
    {
     "data": {
      "text/html": [
       "<div>\n",
       "<style scoped>\n",
       "    .dataframe tbody tr th:only-of-type {\n",
       "        vertical-align: middle;\n",
       "    }\n",
       "\n",
       "    .dataframe tbody tr th {\n",
       "        vertical-align: top;\n",
       "    }\n",
       "\n",
       "    .dataframe thead th {\n",
       "        text-align: right;\n",
       "    }\n",
       "</style>\n",
       "<table border=\"1\" class=\"dataframe\">\n",
       "  <thead>\n",
       "    <tr style=\"text-align: right;\">\n",
       "      <th></th>\n",
       "      <th>userId</th>\n",
       "      <th>movieId</th>\n",
       "      <th>rating</th>\n",
       "      <th>timestamp</th>\n",
       "    </tr>\n",
       "  </thead>\n",
       "  <tbody>\n",
       "    <tr>\n",
       "      <th>count</th>\n",
       "      <td>100836.000000</td>\n",
       "      <td>100836.000000</td>\n",
       "      <td>100836.000000</td>\n",
       "      <td>1.008360e+05</td>\n",
       "    </tr>\n",
       "    <tr>\n",
       "      <th>mean</th>\n",
       "      <td>326.127564</td>\n",
       "      <td>19435.295718</td>\n",
       "      <td>3.501557</td>\n",
       "      <td>1.205946e+09</td>\n",
       "    </tr>\n",
       "    <tr>\n",
       "      <th>std</th>\n",
       "      <td>182.618491</td>\n",
       "      <td>35530.987199</td>\n",
       "      <td>1.042529</td>\n",
       "      <td>2.162610e+08</td>\n",
       "    </tr>\n",
       "    <tr>\n",
       "      <th>min</th>\n",
       "      <td>1.000000</td>\n",
       "      <td>1.000000</td>\n",
       "      <td>0.500000</td>\n",
       "      <td>8.281246e+08</td>\n",
       "    </tr>\n",
       "    <tr>\n",
       "      <th>25%</th>\n",
       "      <td>177.000000</td>\n",
       "      <td>1199.000000</td>\n",
       "      <td>3.000000</td>\n",
       "      <td>1.019124e+09</td>\n",
       "    </tr>\n",
       "    <tr>\n",
       "      <th>50%</th>\n",
       "      <td>325.000000</td>\n",
       "      <td>2991.000000</td>\n",
       "      <td>3.500000</td>\n",
       "      <td>1.186087e+09</td>\n",
       "    </tr>\n",
       "    <tr>\n",
       "      <th>75%</th>\n",
       "      <td>477.000000</td>\n",
       "      <td>8122.000000</td>\n",
       "      <td>4.000000</td>\n",
       "      <td>1.435994e+09</td>\n",
       "    </tr>\n",
       "    <tr>\n",
       "      <th>max</th>\n",
       "      <td>610.000000</td>\n",
       "      <td>193609.000000</td>\n",
       "      <td>5.000000</td>\n",
       "      <td>1.537799e+09</td>\n",
       "    </tr>\n",
       "  </tbody>\n",
       "</table>\n",
       "</div>"
      ],
      "text/plain": [
       "              userId        movieId         rating     timestamp\n",
       "count  100836.000000  100836.000000  100836.000000  1.008360e+05\n",
       "mean      326.127564   19435.295718       3.501557  1.205946e+09\n",
       "std       182.618491   35530.987199       1.042529  2.162610e+08\n",
       "min         1.000000       1.000000       0.500000  8.281246e+08\n",
       "25%       177.000000    1199.000000       3.000000  1.019124e+09\n",
       "50%       325.000000    2991.000000       3.500000  1.186087e+09\n",
       "75%       477.000000    8122.000000       4.000000  1.435994e+09\n",
       "max       610.000000  193609.000000       5.000000  1.537799e+09"
      ]
     },
     "execution_count": 10,
     "metadata": {},
     "output_type": "execute_result"
    }
   ],
   "source": [
    "ratings_df.describe()"
   ]
  },
  {
   "cell_type": "code",
   "execution_count": 11,
   "id": "a61141fb",
   "metadata": {},
   "outputs": [
    {
     "data": {
      "text/plain": [
       "userId       0\n",
       "movieId      0\n",
       "rating       0\n",
       "timestamp    0\n",
       "dtype: int64"
      ]
     },
     "execution_count": 11,
     "metadata": {},
     "output_type": "execute_result"
    }
   ],
   "source": [
    "# nan 값이 있는지 확인한다\n",
    "ratings_df.isnull().sum()"
   ]
  },
  {
   "cell_type": "code",
   "execution_count": 12,
   "id": "c77388f9",
   "metadata": {},
   "outputs": [
    {
     "data": {
      "text/plain": [
       "array([[<AxesSubplot:title={'center':'userId'}>,\n",
       "        <AxesSubplot:title={'center':'movieId'}>],\n",
       "       [<AxesSubplot:title={'center':'rating'}>, <AxesSubplot:>]],\n",
       "      dtype=object)"
      ]
     },
     "execution_count": 12,
     "metadata": {},
     "output_type": "execute_result"
    },
    {
     "data": {
      "image/png": "[encoded data removed]",
      "text/plain": [
       "<Figure size 432x288 with 4 Axes>"
      ]
     },
     "metadata": {
      "needs_background": "light"
     },
     "output_type": "display_data"
    }
   ],
   "source": [
    "ratings_df[['userId','movieId','rating']].hist()"
   ]
  },
  {
   "cell_type": "markdown",
   "id": "defcf0ba",
   "metadata": {},
   "source": [
    "# Pandas의 GroupBy"
   ]
  },
  {
   "cell_type": "code",
   "execution_count": 13,
   "id": "b5e3052d",
   "metadata": {},
   "outputs": [
    {
     "data": {
      "text/plain": [
       "userId  rating\n",
       "1       1.0         1\n",
       "        2.0         5\n",
       "        3.0        26\n",
       "        4.0        76\n",
       "        5.0       124\n",
       "                 ... \n",
       "610     3.0       230\n",
       "        3.5       315\n",
       "        4.0       286\n",
       "        4.5       148\n",
       "        5.0       180\n",
       "Length: 3976, dtype: int64"
      ]
     },
     "execution_count": 13,
     "metadata": {},
     "output_type": "execute_result"
    }
   ],
   "source": [
    "ratings_df.groupby(['userId', 'rating']).size()"
   ]
  },
  {
   "cell_type": "code",
   "execution_count": 14,
   "id": "d320744c",
   "metadata": {},
   "outputs": [
    {
     "data": {
      "text/html": [
       "<div>\n",
       "<style scoped>\n",
       "    .dataframe tbody tr th:only-of-type {\n",
       "        vertical-align: middle;\n",
       "    }\n",
       "\n",
       "    .dataframe tbody tr th {\n",
       "        vertical-align: top;\n",
       "    }\n",
       "\n",
       "    .dataframe thead th {\n",
       "        text-align: right;\n",
       "    }\n",
       "</style>\n",
       "<table border=\"1\" class=\"dataframe\">\n",
       "  <thead>\n",
       "    <tr style=\"text-align: right;\">\n",
       "      <th></th>\n",
       "      <th>movieId</th>\n",
       "      <th>rating</th>\n",
       "      <th>timestamp</th>\n",
       "    </tr>\n",
       "    <tr>\n",
       "      <th>userId</th>\n",
       "      <th></th>\n",
       "      <th></th>\n",
       "      <th></th>\n",
       "    </tr>\n",
       "  </thead>\n",
       "  <tbody>\n",
       "    <tr>\n",
       "      <th>1</th>\n",
       "      <td>1854.603448</td>\n",
       "      <td>4.366379</td>\n",
       "      <td>9.649856e+08</td>\n",
       "    </tr>\n",
       "    <tr>\n",
       "      <th>2</th>\n",
       "      <td>70350.275862</td>\n",
       "      <td>3.948276</td>\n",
       "      <td>1.445715e+09</td>\n",
       "    </tr>\n",
       "    <tr>\n",
       "      <th>3</th>\n",
       "      <td>7058.384615</td>\n",
       "      <td>2.435897</td>\n",
       "      <td>1.306464e+09</td>\n",
       "    </tr>\n",
       "    <tr>\n",
       "      <th>4</th>\n",
       "      <td>1982.129630</td>\n",
       "      <td>3.555556</td>\n",
       "      <td>9.658643e+08</td>\n",
       "    </tr>\n",
       "    <tr>\n",
       "      <th>5</th>\n",
       "      <td>343.840909</td>\n",
       "      <td>3.636364</td>\n",
       "      <td>8.474351e+08</td>\n",
       "    </tr>\n",
       "    <tr>\n",
       "      <th>...</th>\n",
       "      <td>...</td>\n",
       "      <td>...</td>\n",
       "      <td>...</td>\n",
       "    </tr>\n",
       "    <tr>\n",
       "      <th>606</th>\n",
       "      <td>9692.197309</td>\n",
       "      <td>3.657399</td>\n",
       "      <td>1.179512e+09</td>\n",
       "    </tr>\n",
       "    <tr>\n",
       "      <th>607</th>\n",
       "      <td>1860.636364</td>\n",
       "      <td>3.786096</td>\n",
       "      <td>9.647841e+08</td>\n",
       "    </tr>\n",
       "    <tr>\n",
       "      <th>608</th>\n",
       "      <td>4502.605295</td>\n",
       "      <td>3.134176</td>\n",
       "      <td>1.122668e+09</td>\n",
       "    </tr>\n",
       "    <tr>\n",
       "      <th>609</th>\n",
       "      <td>483.162162</td>\n",
       "      <td>3.270270</td>\n",
       "      <td>8.472210e+08</td>\n",
       "    </tr>\n",
       "    <tr>\n",
       "      <th>610</th>\n",
       "      <td>49590.231183</td>\n",
       "      <td>3.688556</td>\n",
       "      <td>1.489454e+09</td>\n",
       "    </tr>\n",
       "  </tbody>\n",
       "</table>\n",
       "<p>610 rows × 3 columns</p>\n",
       "</div>"
      ],
      "text/plain": [
       "             movieId    rating     timestamp\n",
       "userId                                      \n",
       "1        1854.603448  4.366379  9.649856e+08\n",
       "2       70350.275862  3.948276  1.445715e+09\n",
       "3        7058.384615  2.435897  1.306464e+09\n",
       "4        1982.129630  3.555556  9.658643e+08\n",
       "5         343.840909  3.636364  8.474351e+08\n",
       "...              ...       ...           ...\n",
       "606      9692.197309  3.657399  1.179512e+09\n",
       "607      1860.636364  3.786096  9.647841e+08\n",
       "608      4502.605295  3.134176  1.122668e+09\n",
       "609       483.162162  3.270270  8.472210e+08\n",
       "610     49590.231183  3.688556  1.489454e+09\n",
       "\n",
       "[610 rows x 3 columns]"
      ]
     },
     "execution_count": 14,
     "metadata": {},
     "output_type": "execute_result"
    }
   ],
   "source": [
    "ratings_df.groupby(['userId']).mean()"
   ]
  },
  {
   "cell_type": "code",
   "execution_count": 15,
   "id": "c61f9c59",
   "metadata": {},
   "outputs": [
    {
     "data": {
      "text/html": [
       "<div>\n",
       "<style scoped>\n",
       "    .dataframe tbody tr th:only-of-type {\n",
       "        vertical-align: middle;\n",
       "    }\n",
       "\n",
       "    .dataframe tbody tr th {\n",
       "        vertical-align: top;\n",
       "    }\n",
       "\n",
       "    .dataframe thead th {\n",
       "        text-align: right;\n",
       "    }\n",
       "</style>\n",
       "<table border=\"1\" class=\"dataframe\">\n",
       "  <thead>\n",
       "    <tr style=\"text-align: right;\">\n",
       "      <th></th>\n",
       "      <th>userId</th>\n",
       "      <th>rating</th>\n",
       "      <th>count</th>\n",
       "    </tr>\n",
       "  </thead>\n",
       "  <tbody>\n",
       "    <tr>\n",
       "      <th>0</th>\n",
       "      <td>1</td>\n",
       "      <td>1.0</td>\n",
       "      <td>1</td>\n",
       "    </tr>\n",
       "    <tr>\n",
       "      <th>1</th>\n",
       "      <td>1</td>\n",
       "      <td>2.0</td>\n",
       "      <td>5</td>\n",
       "    </tr>\n",
       "    <tr>\n",
       "      <th>2</th>\n",
       "      <td>1</td>\n",
       "      <td>3.0</td>\n",
       "      <td>26</td>\n",
       "    </tr>\n",
       "    <tr>\n",
       "      <th>3</th>\n",
       "      <td>1</td>\n",
       "      <td>4.0</td>\n",
       "      <td>76</td>\n",
       "    </tr>\n",
       "    <tr>\n",
       "      <th>4</th>\n",
       "      <td>1</td>\n",
       "      <td>5.0</td>\n",
       "      <td>124</td>\n",
       "    </tr>\n",
       "    <tr>\n",
       "      <th>5</th>\n",
       "      <td>2</td>\n",
       "      <td>2.0</td>\n",
       "      <td>1</td>\n",
       "    </tr>\n",
       "    <tr>\n",
       "      <th>6</th>\n",
       "      <td>2</td>\n",
       "      <td>2.5</td>\n",
       "      <td>1</td>\n",
       "    </tr>\n",
       "    <tr>\n",
       "      <th>7</th>\n",
       "      <td>2</td>\n",
       "      <td>3.0</td>\n",
       "      <td>4</td>\n",
       "    </tr>\n",
       "    <tr>\n",
       "      <th>8</th>\n",
       "      <td>2</td>\n",
       "      <td>3.5</td>\n",
       "      <td>4</td>\n",
       "    </tr>\n",
       "    <tr>\n",
       "      <th>9</th>\n",
       "      <td>2</td>\n",
       "      <td>4.0</td>\n",
       "      <td>9</td>\n",
       "    </tr>\n",
       "  </tbody>\n",
       "</table>\n",
       "</div>"
      ],
      "text/plain": [
       "   userId  rating  count\n",
       "0       1     1.0      1\n",
       "1       1     2.0      5\n",
       "2       1     3.0     26\n",
       "3       1     4.0     76\n",
       "4       1     5.0    124\n",
       "5       2     2.0      1\n",
       "6       2     2.5      1\n",
       "7       2     3.0      4\n",
       "8       2     3.5      4\n",
       "9       2     4.0      9"
      ]
     },
     "execution_count": 15,
     "metadata": {},
     "output_type": "execute_result"
    }
   ],
   "source": [
    "userid_rating_df = pd.DataFrame({'count': ratings_df.groupby(['userId', 'rating']).size()})\n",
    "userid_rating_df = userid_rating_df.reset_index()\n",
    "userid_rating_df.head(10)"
   ]
  },
  {
   "cell_type": "code",
   "execution_count": 16,
   "id": "a7d08b53",
   "metadata": {},
   "outputs": [],
   "source": [
    "user_info = ratings_df.groupby('userId')['movieId'].count()"
   ]
  },
  {
   "cell_type": "code",
   "execution_count": 17,
   "id": "e029ef1b",
   "metadata": {},
   "outputs": [
    {
     "data": {
      "text/plain": [
       "count     610.000000\n",
       "mean      165.304918\n",
       "std       269.480584\n",
       "min        20.000000\n",
       "25%        35.000000\n",
       "50%        70.500000\n",
       "75%       168.000000\n",
       "max      2698.000000\n",
       "Name: movieId, dtype: float64"
      ]
     },
     "execution_count": 17,
     "metadata": {},
     "output_type": "execute_result"
    }
   ],
   "source": [
    "user_info.describe()"
   ]
  },
  {
   "cell_type": "code",
   "execution_count": 18,
   "id": "3b33caff",
   "metadata": {},
   "outputs": [
    {
     "name": "stderr",
     "output_type": "stream",
     "text": [
      "C:\\ProgramData\\Anaconda3\\lib\\site-packages\\seaborn\\distributions.py:2619: FutureWarning: `distplot` is a deprecated function and will be removed in a future version. Please adapt your code to use either `displot` (a figure-level function with similar flexibility) or `histplot` (an axes-level function for histograms).\n",
      "  warnings.warn(msg, FutureWarning)\n"
     ]
    },
    {
     "data": {
      "text/plain": [
       "<AxesSubplot:ylabel='Density'>"
      ]
     },
     "execution_count": 18,
     "metadata": {},
     "output_type": "execute_result"
    },
    {
     "data": {
      "image/png": "[encoded data removed]",
      "text/plain": [
       "<Figure size 432x288 with 1 Axes>"
      ]
     },
     "metadata": {
      "needs_background": "light"
     },
     "output_type": "display_data"
    }
   ],
   "source": [
    "import seaborn as sns\n",
    "\n",
    "# user가 몇개의 영화에 대해서 rating을 했는지를 볼 수 있는 분포(그래프)\n",
    "sns.distplot(user_info.values)"
   ]
  },
  {
   "cell_type": "markdown",
   "id": "c38c7dc5",
   "metadata": {},
   "source": [
    "# user가 평균적으로 준 평점과 평점을 준 영화의 수"
   ]
  },
  {
   "cell_type": "code",
   "execution_count": 19,
   "id": "7b1d9d4e",
   "metadata": {},
   "outputs": [
    {
     "name": "stdout",
     "output_type": "stream",
     "text": [
      "(610, 3)\n",
      "        movie_count  rating_avg  rating_std\n",
      "userId                                     \n",
      "1               232    4.366379    0.800048\n",
      "2                29    3.948276    0.805615\n",
      "3                39    2.435897    2.090642\n",
      "4               216    3.555556    1.314204\n",
      "5                44    3.636364    0.990441\n"
     ]
    }
   ],
   "source": [
    "stats_df = pd.DataFrame({\n",
    "    'movie_count': ratings_df.groupby('userId')['movieId'].count(),\n",
    "    'rating_avg': ratings_df.groupby('userId')['rating'].mean(), \n",
    "'rating_std': ratings_df.groupby('userId')['rating'].std()})\n",
    "\n",
    "print(stats_df.shape)\n",
    "print(stats_df.head())"
   ]
  },
  {
   "cell_type": "markdown",
   "id": "59042dae",
   "metadata": {},
   "source": [
    "# rating이 많은 영화(다시 말해, 사람들이 관심 많은 영화)"
   ]
  },
  {
   "cell_type": "markdown",
   "id": "5ed6458f",
   "metadata": {},
   "source": [
    "- 많이 본 영화일수록 평점이 좋다?"
   ]
  },
  {
   "cell_type": "code",
   "execution_count": 20,
   "id": "dc20b13f",
   "metadata": {},
   "outputs": [
    {
     "name": "stdout",
     "output_type": "stream",
     "text": [
      "(9724, 4)\n",
      "   movieId  num_users_watch  avg_ratings  std_ratings\n",
      "0        1              215     3.920930     0.834859\n",
      "1        2              110     3.431818     0.881713\n",
      "2        3               52     3.259615     1.054823\n",
      "3        4                7     2.357143     0.852168\n",
      "4        5               49     3.071429     0.907148\n",
      "5        6              102     3.946078     0.817224\n",
      "6        7               54     3.185185     0.977561\n",
      "7        8                8     2.875000     1.125992\n",
      "8        9               16     3.125000     0.974679\n",
      "9       10              132     3.496212     0.859381\n"
     ]
    }
   ],
   "source": [
    "movieid_user_df = pd.DataFrame({\n",
    "    'num_users_watch': ratings_df.groupby('movieId')['userId'].count(),\n",
    "    'avg_ratings': ratings_df.groupby('movieId')['rating'].mean(),\n",
    "    'std_ratings': ratings_df.groupby('movieId')['rating'].std()\n",
    "})\n",
    "movieid_user_df = movieid_user_df.reset_index()\n",
    "print(movieid_user_df.shape)\n",
    "print(movieid_user_df.head(10))"
   ]
  },
  {
   "cell_type": "code",
   "execution_count": 21,
   "id": "efc2e423",
   "metadata": {},
   "outputs": [
    {
     "data": {
      "text/html": [
       "<div>\n",
       "<style scoped>\n",
       "    .dataframe tbody tr th:only-of-type {\n",
       "        vertical-align: middle;\n",
       "    }\n",
       "\n",
       "    .dataframe tbody tr th {\n",
       "        vertical-align: top;\n",
       "    }\n",
       "\n",
       "    .dataframe thead th {\n",
       "        text-align: right;\n",
       "    }\n",
       "</style>\n",
       "<table border=\"1\" class=\"dataframe\">\n",
       "  <thead>\n",
       "    <tr style=\"text-align: right;\">\n",
       "      <th></th>\n",
       "      <th>movieId</th>\n",
       "      <th>num_users_watch</th>\n",
       "      <th>avg_ratings</th>\n",
       "      <th>std_ratings</th>\n",
       "    </tr>\n",
       "  </thead>\n",
       "  <tbody>\n",
       "    <tr>\n",
       "      <th>314</th>\n",
       "      <td>356</td>\n",
       "      <td>329</td>\n",
       "      <td>4.164134</td>\n",
       "      <td>0.831244</td>\n",
       "    </tr>\n",
       "    <tr>\n",
       "      <th>277</th>\n",
       "      <td>318</td>\n",
       "      <td>317</td>\n",
       "      <td>4.429022</td>\n",
       "      <td>0.713019</td>\n",
       "    </tr>\n",
       "    <tr>\n",
       "      <th>257</th>\n",
       "      <td>296</td>\n",
       "      <td>307</td>\n",
       "      <td>4.197068</td>\n",
       "      <td>0.951997</td>\n",
       "    </tr>\n",
       "    <tr>\n",
       "      <th>510</th>\n",
       "      <td>593</td>\n",
       "      <td>279</td>\n",
       "      <td>4.161290</td>\n",
       "      <td>0.853983</td>\n",
       "    </tr>\n",
       "    <tr>\n",
       "      <th>1938</th>\n",
       "      <td>2571</td>\n",
       "      <td>278</td>\n",
       "      <td>4.192446</td>\n",
       "      <td>0.975243</td>\n",
       "    </tr>\n",
       "    <tr>\n",
       "      <th>...</th>\n",
       "      <td>...</td>\n",
       "      <td>...</td>\n",
       "      <td>...</td>\n",
       "      <td>...</td>\n",
       "    </tr>\n",
       "    <tr>\n",
       "      <th>3053</th>\n",
       "      <td>4093</td>\n",
       "      <td>1</td>\n",
       "      <td>1.500000</td>\n",
       "      <td>NaN</td>\n",
       "    </tr>\n",
       "    <tr>\n",
       "      <th>3049</th>\n",
       "      <td>4089</td>\n",
       "      <td>1</td>\n",
       "      <td>2.000000</td>\n",
       "      <td>NaN</td>\n",
       "    </tr>\n",
       "    <tr>\n",
       "      <th>6687</th>\n",
       "      <td>58351</td>\n",
       "      <td>1</td>\n",
       "      <td>4.000000</td>\n",
       "      <td>NaN</td>\n",
       "    </tr>\n",
       "    <tr>\n",
       "      <th>3045</th>\n",
       "      <td>4083</td>\n",
       "      <td>1</td>\n",
       "      <td>4.000000</td>\n",
       "      <td>NaN</td>\n",
       "    </tr>\n",
       "    <tr>\n",
       "      <th>9723</th>\n",
       "      <td>193609</td>\n",
       "      <td>1</td>\n",
       "      <td>4.000000</td>\n",
       "      <td>NaN</td>\n",
       "    </tr>\n",
       "  </tbody>\n",
       "</table>\n",
       "<p>9724 rows × 4 columns</p>\n",
       "</div>"
      ],
      "text/plain": [
       "      movieId  num_users_watch  avg_ratings  std_ratings\n",
       "314       356              329     4.164134     0.831244\n",
       "277       318              317     4.429022     0.713019\n",
       "257       296              307     4.197068     0.951997\n",
       "510       593              279     4.161290     0.853983\n",
       "1938     2571              278     4.192446     0.975243\n",
       "...       ...              ...          ...          ...\n",
       "3053     4093                1     1.500000          NaN\n",
       "3049     4089                1     2.000000          NaN\n",
       "6687    58351                1     4.000000          NaN\n",
       "3045     4083                1     4.000000          NaN\n",
       "9723   193609                1     4.000000          NaN\n",
       "\n",
       "[9724 rows x 4 columns]"
      ]
     },
     "execution_count": 21,
     "metadata": {},
     "output_type": "execute_result"
    }
   ],
   "source": [
    "movieid_user_df.sort_values(by='num_users_watch', ascending=False)"
   ]
  },
  {
   "cell_type": "code",
   "execution_count": 22,
   "id": "fd851b54",
   "metadata": {},
   "outputs": [
    {
     "data": {
      "text/plain": [
       "<AxesSubplot:>"
      ]
     },
     "execution_count": 22,
     "metadata": {},
     "output_type": "execute_result"
    },
    {
     "data": {
      "image/png": "[encoded data removed]",
      "text/plain": [
       "<Figure size 432x288 with 1 Axes>"
      ]
     },
     "metadata": {
      "needs_background": "light"
     },
     "output_type": "display_data"
    }
   ],
   "source": [
    "# long tail economy\n",
    "movieid_user_df['num_users_watch'].hist()"
   ]
  },
  {
   "cell_type": "code",
   "execution_count": 23,
   "id": "85c95701",
   "metadata": {},
   "outputs": [
    {
     "data": {
      "text/plain": [
       "3446"
      ]
     },
     "execution_count": 23,
     "metadata": {},
     "output_type": "execute_result"
    }
   ],
   "source": [
    "# 1번 또는 1명만 평점을 준 영화\n",
    "movieid_user_df['movieId'][movieid_user_df.num_users_watch == 1].count()"
   ]
  },
  {
   "cell_type": "code",
   "execution_count": 24,
   "id": "5f4a56d0",
   "metadata": {},
   "outputs": [
    {
     "data": {
      "text/plain": [
       "4744"
      ]
     },
     "execution_count": 24,
     "metadata": {},
     "output_type": "execute_result"
    }
   ],
   "source": [
    "# 3번 미만의 영화\n",
    "movieid_user_df['movieId'][movieid_user_df.num_users_watch < 3].count()"
   ]
  },
  {
   "cell_type": "code",
   "execution_count": 25,
   "id": "e1144480",
   "metadata": {},
   "outputs": [
    {
     "data": {
      "text/plain": [
       "4744"
      ]
     },
     "execution_count": 25,
     "metadata": {},
     "output_type": "execute_result"
    }
   ],
   "source": [
    "# 3번 미만의 영화\n",
    "movieid_user_df['movieId'][movieid_user_df.num_users_watch < 3].count()"
   ]
  },
  {
   "cell_type": "markdown",
   "id": "0d75df61",
   "metadata": {},
   "source": [
    "# 평점이 높은 영화(장르), 평점을 많이 받은 영화(장르)"
   ]
  },
  {
   "cell_type": "code",
   "execution_count": 26,
   "id": "4b98bb1f",
   "metadata": {},
   "outputs": [
    {
     "data": {
      "text/html": [
       "<div>\n",
       "<style scoped>\n",
       "    .dataframe tbody tr th:only-of-type {\n",
       "        vertical-align: middle;\n",
       "    }\n",
       "\n",
       "    .dataframe tbody tr th {\n",
       "        vertical-align: top;\n",
       "    }\n",
       "\n",
       "    .dataframe thead th {\n",
       "        text-align: right;\n",
       "    }\n",
       "</style>\n",
       "<table border=\"1\" class=\"dataframe\">\n",
       "  <thead>\n",
       "    <tr style=\"text-align: right;\">\n",
       "      <th></th>\n",
       "      <th>movieId</th>\n",
       "      <th>title</th>\n",
       "      <th>genres</th>\n",
       "    </tr>\n",
       "  </thead>\n",
       "  <tbody>\n",
       "    <tr>\n",
       "      <th>0</th>\n",
       "      <td>1</td>\n",
       "      <td>Toy Story (1995)</td>\n",
       "      <td>Adventure|Animation|Children|Comedy|Fantasy</td>\n",
       "    </tr>\n",
       "    <tr>\n",
       "      <th>1</th>\n",
       "      <td>2</td>\n",
       "      <td>Jumanji (1995)</td>\n",
       "      <td>Adventure|Children|Fantasy</td>\n",
       "    </tr>\n",
       "    <tr>\n",
       "      <th>2</th>\n",
       "      <td>3</td>\n",
       "      <td>Grumpier Old Men (1995)</td>\n",
       "      <td>Comedy|Romance</td>\n",
       "    </tr>\n",
       "    <tr>\n",
       "      <th>3</th>\n",
       "      <td>4</td>\n",
       "      <td>Waiting to Exhale (1995)</td>\n",
       "      <td>Comedy|Drama|Romance</td>\n",
       "    </tr>\n",
       "    <tr>\n",
       "      <th>4</th>\n",
       "      <td>5</td>\n",
       "      <td>Father of the Bride Part II (1995)</td>\n",
       "      <td>Comedy</td>\n",
       "    </tr>\n",
       "  </tbody>\n",
       "</table>\n",
       "</div>"
      ],
      "text/plain": [
       "   movieId                               title  \\\n",
       "0        1                    Toy Story (1995)   \n",
       "1        2                      Jumanji (1995)   \n",
       "2        3             Grumpier Old Men (1995)   \n",
       "3        4            Waiting to Exhale (1995)   \n",
       "4        5  Father of the Bride Part II (1995)   \n",
       "\n",
       "                                        genres  \n",
       "0  Adventure|Animation|Children|Comedy|Fantasy  \n",
       "1                   Adventure|Children|Fantasy  \n",
       "2                               Comedy|Romance  \n",
       "3                         Comedy|Drama|Romance  \n",
       "4                                       Comedy  "
      ]
     },
     "execution_count": 26,
     "metadata": {},
     "output_type": "execute_result"
    }
   ],
   "source": [
    "# 영화 정보를 활용\n",
    "movies_df.head()"
   ]
  },
  {
   "cell_type": "code",
   "execution_count": 27,
   "id": "a9622863",
   "metadata": {},
   "outputs": [
    {
     "data": {
      "text/plain": [
       "movieId\n",
       "1    215\n",
       "2    110\n",
       "3     52\n",
       "4      7\n",
       "5     49\n",
       "Name: userId, dtype: int64"
      ]
     },
     "execution_count": 27,
     "metadata": {},
     "output_type": "execute_result"
    }
   ],
   "source": [
    "# 평점을 많이 받은 영화 \n",
    "ratings_count_df = ratings_df.groupby('movieId')['userId'].count()\n",
    "ratings_count_df.head()"
   ]
  },
  {
   "cell_type": "code",
   "execution_count": 28,
   "id": "ed28857a",
   "metadata": {},
   "outputs": [],
   "source": [
    "df = pd.DataFrame({\n",
    "    'ratings_count': ratings_df.groupby('movieId')['userId'].count(),\n",
    "})"
   ]
  },
  {
   "cell_type": "code",
   "execution_count": null,
   "id": "bb92c23a",
   "metadata": {},
   "outputs": [],
   "source": [
    "df['movie_name'] = df.apply(lambda x: movies_df['title'].loc[x.index])\n",
    "df.head(10)"
   ]
  },
  {
   "cell_type": "code",
   "execution_count": 30,
   "id": "d3b8139f",
   "metadata": {},
   "outputs": [
    {
     "data": {
      "text/html": [
       "<div>\n",
       "<style scoped>\n",
       "    .dataframe tbody tr th:only-of-type {\n",
       "        vertical-align: middle;\n",
       "    }\n",
       "\n",
       "    .dataframe tbody tr th {\n",
       "        vertical-align: top;\n",
       "    }\n",
       "\n",
       "    .dataframe thead th {\n",
       "        text-align: right;\n",
       "    }\n",
       "</style>\n",
       "<table border=\"1\" class=\"dataframe\">\n",
       "  <thead>\n",
       "    <tr style=\"text-align: right;\">\n",
       "      <th></th>\n",
       "      <th>ratings_count</th>\n",
       "    </tr>\n",
       "    <tr>\n",
       "      <th>movieId</th>\n",
       "      <th></th>\n",
       "    </tr>\n",
       "  </thead>\n",
       "  <tbody>\n",
       "    <tr>\n",
       "      <th>356</th>\n",
       "      <td>329</td>\n",
       "    </tr>\n",
       "    <tr>\n",
       "      <th>318</th>\n",
       "      <td>317</td>\n",
       "    </tr>\n",
       "    <tr>\n",
       "      <th>296</th>\n",
       "      <td>307</td>\n",
       "    </tr>\n",
       "    <tr>\n",
       "      <th>593</th>\n",
       "      <td>279</td>\n",
       "    </tr>\n",
       "    <tr>\n",
       "      <th>2571</th>\n",
       "      <td>278</td>\n",
       "    </tr>\n",
       "    <tr>\n",
       "      <th>...</th>\n",
       "      <td>...</td>\n",
       "    </tr>\n",
       "    <tr>\n",
       "      <th>4093</th>\n",
       "      <td>1</td>\n",
       "    </tr>\n",
       "    <tr>\n",
       "      <th>4089</th>\n",
       "      <td>1</td>\n",
       "    </tr>\n",
       "    <tr>\n",
       "      <th>58351</th>\n",
       "      <td>1</td>\n",
       "    </tr>\n",
       "    <tr>\n",
       "      <th>4083</th>\n",
       "      <td>1</td>\n",
       "    </tr>\n",
       "    <tr>\n",
       "      <th>193609</th>\n",
       "      <td>1</td>\n",
       "    </tr>\n",
       "  </tbody>\n",
       "</table>\n",
       "<p>9724 rows × 1 columns</p>\n",
       "</div>"
      ],
      "text/plain": [
       "         ratings_count\n",
       "movieId               \n",
       "356                329\n",
       "318                317\n",
       "296                307\n",
       "593                279\n",
       "2571               278\n",
       "...                ...\n",
       "4093                 1\n",
       "4089                 1\n",
       "58351                1\n",
       "4083                 1\n",
       "193609               1\n",
       "\n",
       "[9724 rows x 1 columns]"
      ]
     },
     "execution_count": 30,
     "metadata": {},
     "output_type": "execute_result"
    }
   ],
   "source": [
    "df.sort_values(by='ratings_count', ascending=False)"
   ]
  },
  {
   "cell_type": "markdown",
   "id": "00ba94f2",
   "metadata": {},
   "source": [
    "# 특정 영화의 평점 분포"
   ]
  },
  {
   "cell_type": "markdown",
   "id": "3dbdf241",
   "metadata": {},
   "source": [
    "- movieId : 356, Forrest Gump(1994)\n",
    "- movieId : 2571, Matrix, The (1999)"
   ]
  },
  {
   "cell_type": "code",
   "execution_count": 31,
   "id": "a0578ac0",
   "metadata": {},
   "outputs": [
    {
     "data": {
      "text/plain": [
       "<AxesSubplot:>"
      ]
     },
     "execution_count": 31,
     "metadata": {},
     "output_type": "execute_result"
    },
    {
     "data": {
      "image/png": "[encoded data removed]",
      "text/plain": [
       "<Figure size 432x288 with 1 Axes>"
      ]
     },
     "metadata": {
      "needs_background": "light"
     },
     "output_type": "display_data"
    }
   ],
   "source": [
    "ratings_df[ratings_df.movieId == 356]['rating'].hist()"
   ]
  },
  {
   "cell_type": "code",
   "execution_count": 32,
   "id": "1da235b7",
   "metadata": {},
   "outputs": [
    {
     "data": {
      "text/plain": [
       "<AxesSubplot:>"
      ]
     },
     "execution_count": 32,
     "metadata": {},
     "output_type": "execute_result"
    },
    {
     "data": {
      "image/png": "[encoded data removed]",
      "text/plain": [
       "<Figure size 432x288 with 1 Axes>"
      ]
     },
     "metadata": {
      "needs_background": "light"
     },
     "output_type": "display_data"
    }
   ],
   "source": [
    "ratings_df[ratings_df.movieId == 2571]['rating'].hist()"
   ]
  },
  {
   "cell_type": "markdown",
   "id": "efbe7e22",
   "metadata": {},
   "source": [
    "# 특정 유저가 주는 평점과 실제 영화에 대한 평점 분포가 비슷할까?"
   ]
  },
  {
   "cell_type": "markdown",
   "id": "bc363885",
   "metadata": {},
   "source": [
    "- 나는 일반적인 영화 관람객일까? 특이한 취향을 갖고있는 사람일까?"
   ]
  },
  {
   "cell_type": "code",
   "execution_count": 33,
   "id": "2df35911",
   "metadata": {},
   "outputs": [
    {
     "data": {
      "text/html": [
       "<div>\n",
       "<style scoped>\n",
       "    .dataframe tbody tr th:only-of-type {\n",
       "        vertical-align: middle;\n",
       "    }\n",
       "\n",
       "    .dataframe tbody tr th {\n",
       "        vertical-align: top;\n",
       "    }\n",
       "\n",
       "    .dataframe thead th {\n",
       "        text-align: right;\n",
       "    }\n",
       "</style>\n",
       "<table border=\"1\" class=\"dataframe\">\n",
       "  <thead>\n",
       "    <tr style=\"text-align: right;\">\n",
       "      <th></th>\n",
       "      <th>userId</th>\n",
       "      <th>movieId</th>\n",
       "      <th>rating</th>\n",
       "      <th>timestamp</th>\n",
       "    </tr>\n",
       "  </thead>\n",
       "  <tbody>\n",
       "    <tr>\n",
       "      <th>12274</th>\n",
       "      <td>76</td>\n",
       "      <td>356</td>\n",
       "      <td>1.0</td>\n",
       "      <td>1439165536</td>\n",
       "    </tr>\n",
       "    <tr>\n",
       "      <th>13553</th>\n",
       "      <td>89</td>\n",
       "      <td>356</td>\n",
       "      <td>0.5</td>\n",
       "      <td>1520408275</td>\n",
       "    </tr>\n",
       "  </tbody>\n",
       "</table>\n",
       "</div>"
      ],
      "text/plain": [
       "       userId  movieId  rating   timestamp\n",
       "12274      76      356     1.0  1439165536\n",
       "13553      89      356     0.5  1520408275"
      ]
     },
     "execution_count": 33,
     "metadata": {},
     "output_type": "execute_result"
    }
   ],
   "source": [
    "ratings_df[(ratings_df.movieId == 356) & (ratings_df.rating < 2)]"
   ]
  },
  {
   "cell_type": "code",
   "execution_count": 34,
   "id": "1fa2aedd",
   "metadata": {},
   "outputs": [
    {
     "data": {
      "text/html": [
       "<div>\n",
       "<style scoped>\n",
       "    .dataframe tbody tr th:only-of-type {\n",
       "        vertical-align: middle;\n",
       "    }\n",
       "\n",
       "    .dataframe tbody tr th {\n",
       "        vertical-align: top;\n",
       "    }\n",
       "\n",
       "    .dataframe thead th {\n",
       "        text-align: right;\n",
       "    }\n",
       "</style>\n",
       "<table border=\"1\" class=\"dataframe\">\n",
       "  <thead>\n",
       "    <tr style=\"text-align: right;\">\n",
       "      <th></th>\n",
       "      <th>userId</th>\n",
       "      <th>movieId</th>\n",
       "      <th>rating</th>\n",
       "      <th>timestamp</th>\n",
       "    </tr>\n",
       "  </thead>\n",
       "  <tbody>\n",
       "    <tr>\n",
       "      <th>442</th>\n",
       "      <td>4</td>\n",
       "      <td>2571</td>\n",
       "      <td>1.0</td>\n",
       "      <td>945173385</td>\n",
       "    </tr>\n",
       "    <tr>\n",
       "      <th>1130</th>\n",
       "      <td>10</td>\n",
       "      <td>2571</td>\n",
       "      <td>0.5</td>\n",
       "      <td>1455356378</td>\n",
       "    </tr>\n",
       "    <tr>\n",
       "      <th>8706</th>\n",
       "      <td>59</td>\n",
       "      <td>2571</td>\n",
       "      <td>1.0</td>\n",
       "      <td>953609098</td>\n",
       "    </tr>\n",
       "    <tr>\n",
       "      <th>12239</th>\n",
       "      <td>75</td>\n",
       "      <td>2571</td>\n",
       "      <td>1.0</td>\n",
       "      <td>1158967564</td>\n",
       "    </tr>\n",
       "    <tr>\n",
       "      <th>17337</th>\n",
       "      <td>111</td>\n",
       "      <td>2571</td>\n",
       "      <td>0.5</td>\n",
       "      <td>1516140656</td>\n",
       "    </tr>\n",
       "    <tr>\n",
       "      <th>22474</th>\n",
       "      <td>153</td>\n",
       "      <td>2571</td>\n",
       "      <td>0.5</td>\n",
       "      <td>1525548255</td>\n",
       "    </tr>\n",
       "    <tr>\n",
       "      <th>65107</th>\n",
       "      <td>416</td>\n",
       "      <td>2571</td>\n",
       "      <td>1.0</td>\n",
       "      <td>1187496634</td>\n",
       "    </tr>\n",
       "    <tr>\n",
       "      <th>71534</th>\n",
       "      <td>461</td>\n",
       "      <td>2571</td>\n",
       "      <td>0.5</td>\n",
       "      <td>1505935248</td>\n",
       "    </tr>\n",
       "    <tr>\n",
       "      <th>71706</th>\n",
       "      <td>462</td>\n",
       "      <td>2571</td>\n",
       "      <td>0.5</td>\n",
       "      <td>1154037742</td>\n",
       "    </tr>\n",
       "  </tbody>\n",
       "</table>\n",
       "</div>"
      ],
      "text/plain": [
       "       userId  movieId  rating   timestamp\n",
       "442         4     2571     1.0   945173385\n",
       "1130       10     2571     0.5  1455356378\n",
       "8706       59     2571     1.0   953609098\n",
       "12239      75     2571     1.0  1158967564\n",
       "17337     111     2571     0.5  1516140656\n",
       "22474     153     2571     0.5  1525548255\n",
       "65107     416     2571     1.0  1187496634\n",
       "71534     461     2571     0.5  1505935248\n",
       "71706     462     2571     0.5  1154037742"
      ]
     },
     "execution_count": 34,
     "metadata": {},
     "output_type": "execute_result"
    }
   ],
   "source": [
    "ratings_df[(ratings_df.movieId == 2571) & (ratings_df.rating < 2)]"
   ]
  },
  {
   "cell_type": "code",
   "execution_count": 35,
   "id": "73185b7a",
   "metadata": {},
   "outputs": [
    {
     "data": {
      "text/plain": [
       "<AxesSubplot:>"
      ]
     },
     "execution_count": 35,
     "metadata": {},
     "output_type": "execute_result"
    },
    {
     "data": {
      "image/png": "[encoded data removed]",
      "text/plain": [
       "<Figure size 432x288 with 1 Axes>"
      ]
     },
     "metadata": {
      "needs_background": "light"
     },
     "output_type": "display_data"
    }
   ],
   "source": [
    "ratings_df[ratings_df.userId == 76]['rating'].hist()"
   ]
  }
 ],
 "metadata": {
  "kernelspec": {
   "display_name": "Python 3 (ipykernel)",
   "language": "python",
   "name": "python3"
  },
  "language_info": {
   "codemirror_mode": {
    "name": "ipython",
    "version": 3
   },
   "file_extension": ".py",
   "mimetype": "text/x-python",
   "name": "python",
   "nbconvert_exporter": "python",
   "pygments_lexer": "ipython3",
   "version": "3.9.7"
  }
 },
 "nbformat": 4,
 "nbformat_minor": 5
}
