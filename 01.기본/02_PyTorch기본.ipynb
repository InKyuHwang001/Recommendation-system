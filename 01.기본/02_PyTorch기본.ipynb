{
  "nbformat": 4,
  "nbformat_minor": 0,
  "metadata": {
    "colab": {
      "name": "02.PyTorch기본.ipynb",
      "provenance": [],
      "machine_shape": "hm"
    },
    "kernelspec": {
      "name": "python3",
      "display_name": "Python 3"
    },
    "language_info": {
      "name": "python"
    },
    "accelerator": "GPU",
    "gpuClass": "standard"
  },
  "cells": [
    {
      "cell_type": "markdown",
      "source": [
        "# Pytorch Basics"
      ],
      "metadata": {
        "id": "VYuTWxZk1Yrj"
      }
    },
    {
      "cell_type": "markdown",
      "source": [
        "- Stevens, Antiga and Viehmann (2020), \"Deep Learning with PyTorch\" 참고\n",
        "- PyTorch tutorial website 참고\n",
        "(https://tutorials.pytorch.kr/beginner/deep_learning_60min_blitz.html)"
      ],
      "metadata": {
        "id": "cl8d4lEK1dBF"
      }
    },
    {
      "cell_type": "markdown",
      "source": [
        "## PyTorch"
      ],
      "metadata": {
        "id": "BUws3Ipq1sbF"
      }
    },
    {
      "cell_type": "markdown",
      "source": [
        "- provides multidimensional arrays\n",
        "- tensors, and an extensive library of operations on them"
      ],
      "metadata": {
        "id": "xI3cnH2j1vU0"
      }
    },
    {
      "cell_type": "code",
      "execution_count": 1,
      "metadata": {
        "id": "M2EAV5Ll3PDt"
      },
      "outputs": [],
      "source": [
        "# !pip install torch\n",
        "import torch"
      ]
    },
    {
      "cell_type": "markdown",
      "source": [
        "## 1. Tensor란? Tensor 만들기\n"
      ],
      "metadata": {
        "id": "M6tN7NrS2DhA"
      }
    },
    {
      "cell_type": "markdown",
      "source": [
        "- Tensors: Multidimensional arrays\n"
      ],
      "metadata": {
        "id": "MnqLc3dW2HZI"
      }
    },
    {
      "cell_type": "code",
      "source": [
        "# Create a torch.Tensor object with the given data.  It is a 1D vector\n",
        "V_data = [1., 2., 3.]\n",
        "V = torch.Tensor(V_data)\n",
        "print(V)\n",
        "\n",
        "# Creates a matrix\n",
        "M_data = [[1., 2., 3.], [4., 5., 6]]\n",
        "M = torch.Tensor(M_data)\n",
        "print(M)\n",
        "\n",
        "# Create a 3D tensor of size 2x2x2.\n",
        "T_data = [[[1.,2.], [3.,4.]],\n",
        "          [[5.,6.], [7.,8.]]]\n",
        "T = torch.Tensor(T_data)\n",
        "print(T)"
      ],
      "metadata": {
        "colab": {
          "base_uri": "https://localhost:8080/"
        },
        "id": "46_XECwu13Iq",
        "outputId": "9301ef06-1c39-4fe8-c079-b3d47f430480"
      },
      "execution_count": 2,
      "outputs": [
        {
          "output_type": "stream",
          "name": "stdout",
          "text": [
            "tensor([1., 2., 3.])\n",
            "tensor([[1., 2., 3.],\n",
            "        [4., 5., 6.]])\n",
            "tensor([[[1., 2.],\n",
            "         [3., 4.]],\n",
            "\n",
            "        [[5., 6.],\n",
            "         [7., 8.]]])\n"
          ]
        }
      ]
    },
    {
      "cell_type": "code",
      "source": [
        "# torch.ones: tensor를 size에 맞게 1로 채운다\n",
        "a = torch.ones(3)\n",
        "print(a)\n",
        "\n",
        "b = torch.ones(2, 3)\n",
        "print(b)"
      ],
      "metadata": {
        "colab": {
          "base_uri": "https://localhost:8080/"
        },
        "id": "YeR8CFFO2QQI",
        "outputId": "21ebf538-83b4-4e6f-d6ca-b19705507fcc"
      },
      "execution_count": 3,
      "outputs": [
        {
          "output_type": "stream",
          "name": "stdout",
          "text": [
            "tensor([1., 1., 1.])\n",
            "tensor([[1., 1., 1.],\n",
            "        [1., 1., 1.]])\n"
          ]
        }
      ]
    },
    {
      "cell_type": "code",
      "source": [
        "# torch.zeros: tensor를 size에 맞게 0으로 채운다\n",
        "c = torch.zeros(4)\n",
        "print(c)\n",
        "\n",
        "d = torch.zeros(5, 2, 3)\n",
        "print(d)"
      ],
      "metadata": {
        "colab": {
          "base_uri": "https://localhost:8080/"
        },
        "id": "bHWD0tUC2XPC",
        "outputId": "3f6fb7e1-5ddc-43e1-e533-5142d1d40fe7"
      },
      "execution_count": 4,
      "outputs": [
        {
          "output_type": "stream",
          "name": "stdout",
          "text": [
            "tensor([0., 0., 0., 0.])\n",
            "tensor([[[0., 0., 0.],\n",
            "         [0., 0., 0.]],\n",
            "\n",
            "        [[0., 0., 0.],\n",
            "         [0., 0., 0.]],\n",
            "\n",
            "        [[0., 0., 0.],\n",
            "         [0., 0., 0.]],\n",
            "\n",
            "        [[0., 0., 0.],\n",
            "         [0., 0., 0.]],\n",
            "\n",
            "        [[0., 0., 0.],\n",
            "         [0., 0., 0.]]])\n"
          ]
        }
      ]
    },
    {
      "cell_type": "code",
      "source": [
        "# 초기화하면서 현재 메모리에 존재하는 값\n",
        "x = torch.empty(5, 3)\n",
        "print(x)\n",
        "\n",
        "x = torch.rand(5, 3)\n",
        "print(x)"
      ],
      "metadata": {
        "colab": {
          "base_uri": "https://localhost:8080/"
        },
        "id": "og2TQgUW2e_Y",
        "outputId": "db9d31ce-4d87-431c-c23f-7d1dbbbbef29"
      },
      "execution_count": 5,
      "outputs": [
        {
          "output_type": "stream",
          "name": "stdout",
          "text": [
            "tensor([[1.0120e-34, 0.0000e+00, 3.3631e-44],\n",
            "        [0.0000e+00,        nan, 0.0000e+00],\n",
            "        [1.1578e+27, 1.1362e+30, 7.1547e+22],\n",
            "        [4.5828e+30, 1.2121e+04, 7.1846e+22],\n",
            "        [9.2198e-39, 7.0374e+22, 0.0000e+00]])\n",
            "tensor([[0.5797, 0.7531, 0.2883],\n",
            "        [0.5060, 0.6193, 0.0955],\n",
            "        [0.7016, 0.0054, 0.1197],\n",
            "        [0.7784, 0.6760, 0.4107],\n",
            "        [0.2824, 0.1166, 0.1941]])\n"
          ]
        }
      ]
    },
    {
      "cell_type": "code",
      "source": [
        "# torch.rand: 랜덤 숫자로 tensor를 채운다\n",
        "rand_points = torch.rand(4, dtype=torch.double)\n",
        "print(rand_points)\n",
        "\n",
        "rand_points_2 = torch.rand(2, 3, dtype=torch.float)\n",
        "print(rand_points_2)"
      ],
      "metadata": {
        "colab": {
          "base_uri": "https://localhost:8080/"
        },
        "id": "VSCuU_U92j70",
        "outputId": "6c85d266-c067-42e0-b9c2-9539588e9d8b"
      },
      "execution_count": 6,
      "outputs": [
        {
          "output_type": "stream",
          "name": "stdout",
          "text": [
            "tensor([0.2220, 0.7547, 0.2645, 0.9296], dtype=torch.float64)\n",
            "tensor([[0.9341, 0.8988, 0.5817],\n",
            "        [0.3786, 0.7613, 0.4737]])\n"
          ]
        }
      ]
    },
    {
      "cell_type": "code",
      "source": [
        "# 행렬 사이즈\n",
        "print(rand_points_2.size())"
      ],
      "metadata": {
        "colab": {
          "base_uri": "https://localhost:8080/"
        },
        "id": "kmF3OT5c2ovk",
        "outputId": "7e2c5c8f-26eb-4006-b56a-b98e075af9a4"
      },
      "execution_count": 7,
      "outputs": [
        {
          "output_type": "stream",
          "name": "stdout",
          "text": [
            "torch.Size([2, 3])\n"
          ]
        }
      ]
    },
    {
      "cell_type": "markdown",
      "source": [
        "## 2. Indexing Tensors"
      ],
      "metadata": {
        "id": "eTK9r4wC2sLw"
      }
    },
    {
      "cell_type": "code",
      "source": [
        "temp = torch.Tensor([0, 1, 2, 3, 4, 5, 6, 7])\n",
        "\n",
        "print(temp[:]) # tensor element 전체\n",
        "print(temp[1:4]) # index 1과 4 사이의 원소들 출력\n",
        "print(temp[1:]) # index 1부터의 원소들 출력\n",
        "print(temp[:4]) # index 4까지의 원소들 출력\n",
        "print(temp[-1]) # 뒤에서 첫번째 원소 출력\n",
        "print(temp[:-1]) # index -1 = 뒤에서부터 index 1에 해당하는 원소까지만 출력\n",
        "print(temp[1:6:2]) # index 1과 6 사이의 원소 출력, 이때 2개 단위로 건너뛰면서"
      ],
      "metadata": {
        "colab": {
          "base_uri": "https://localhost:8080/"
        },
        "id": "MsoAth672qlv",
        "outputId": "8659f126-5680-42ec-afc0-fd36d5124e25"
      },
      "execution_count": 8,
      "outputs": [
        {
          "output_type": "stream",
          "name": "stdout",
          "text": [
            "tensor([0., 1., 2., 3., 4., 5., 6., 7.])\n",
            "tensor([1., 2., 3.])\n",
            "tensor([1., 2., 3., 4., 5., 6., 7.])\n",
            "tensor([0., 1., 2., 3.])\n",
            "tensor(7.)\n",
            "tensor([0., 1., 2., 3., 4., 5., 6.])\n",
            "tensor([1., 3., 5.])\n"
          ]
        }
      ]
    },
    {
      "cell_type": "code",
      "source": [
        "temp2 = torch.Tensor([[1, 2, 3], [4, 5, 6]])\n",
        "\n",
        "print(temp2)\n",
        "print(temp2[1:])\n",
        "print(temp2[1:, 1:])\n",
        "print(temp2[1:, 0])"
      ],
      "metadata": {
        "colab": {
          "base_uri": "https://localhost:8080/"
        },
        "id": "93P3U6q22ySm",
        "outputId": "d70aa224-aadd-4df7-f182-d8cc5f523553"
      },
      "execution_count": 9,
      "outputs": [
        {
          "output_type": "stream",
          "name": "stdout",
          "text": [
            "tensor([[1., 2., 3.],\n",
            "        [4., 5., 6.]])\n",
            "tensor([[4., 5., 6.]])\n",
            "tensor([[5., 6.]])\n",
            "tensor([4.])\n"
          ]
        }
      ]
    },
    {
      "cell_type": "markdown",
      "source": [
        "## 3. Tensor element types"
      ],
      "metadata": {
        "id": "TWT811pB22ph"
      }
    },
    {
      "cell_type": "markdown",
      "source": [
        "add 'dtype' argument to tensor constructors\n",
        "\n",
        "-> specify the data type that will be contained in the tensor\n",
        "\n",
        "dtype을 구성하는 것:\n",
        "\n",
        "- possible values the tensor can hold (int, float, ...)\n",
        "- number of bytes per value (8, 16, 32, ...)\n",
        "\n",
        "예)\n",
        "- torch.float32 (= torch.float): 32-bit floating point\n",
        "\n",
        "- torch.float64 (= torch.double): 64-bit, double-precision floating point\n",
        "\n",
        "- torch.float16 (= torch.half): 16-bit, half-precision floating point\n",
        "\n",
        "- torch.int32 (= torch.int): 32-bit integers\n",
        "\n",
        "- torch.int64 (= torch.long): 64-bit integers\n",
        "\n",
        "- torch.bool: Boolean"
      ],
      "metadata": {
        "id": "j5VYOax53JS-"
      }
    },
    {
      "cell_type": "code",
      "source": [
        "float_points = torch.ones(5, 2, dtype=torch.float32)\n",
        "int_points = torch.zeros(3, dtype=torch.int64)\n",
        "\n",
        "print(float_points)\n",
        "print(int_points)"
      ],
      "metadata": {
        "colab": {
          "base_uri": "https://localhost:8080/"
        },
        "id": "MOdCnj5B212e",
        "outputId": "f7d2225f-6ffb-4e73-f2ed-3a89549b4e5b"
      },
      "execution_count": 10,
      "outputs": [
        {
          "output_type": "stream",
          "name": "stdout",
          "text": [
            "tensor([[1., 1.],\n",
            "        [1., 1.],\n",
            "        [1., 1.],\n",
            "        [1., 1.],\n",
            "        [1., 1.]])\n",
            "tensor([0, 0, 0])\n"
          ]
        }
      ]
    },
    {
      "cell_type": "code",
      "source": [
        "# default: float\n",
        "default_points = torch.Tensor([2, 2])\n",
        "print(default_points)"
      ],
      "metadata": {
        "colab": {
          "base_uri": "https://localhost:8080/"
        },
        "id": "PWW0GZ3F3Z8E",
        "outputId": "36bb9bff-6332-4b4e-f0cf-36d0b4eceb2e"
      },
      "execution_count": 11,
      "outputs": [
        {
          "output_type": "stream",
          "name": "stdout",
          "text": [
            "tensor([2., 2.])\n"
          ]
        }
      ]
    },
    {
      "cell_type": "code",
      "source": [
        "# find out dtype\n",
        "print(float_points.dtype)\n",
        "print(int_points.dtype)\n",
        "print(default_points.dtype)"
      ],
      "metadata": {
        "colab": {
          "base_uri": "https://localhost:8080/"
        },
        "id": "tOBHyoZ33cOX",
        "outputId": "bf7abdb5-9b0f-4139-fc9d-ea7b316d5d02"
      },
      "execution_count": 12,
      "outputs": [
        {
          "output_type": "stream",
          "name": "stdout",
          "text": [
            "torch.float32\n",
            "torch.int64\n",
            "torch.float32\n"
          ]
        }
      ]
    },
    {
      "cell_type": "code",
      "source": [
        "# other forms of specifying dtype\n",
        "\n",
        "to_int_1 = float_points.int()\n",
        "print(to_int_1.dtype)\n",
        "\n",
        "# 'to' checks whether the conversion is necessary and if so, does it.\n",
        "to_int_2 = float_points.to(torch.int64)\n",
        "print(to_int_2.dtype)\n",
        "\n",
        "to_float_1 = int_points.float()\n",
        "print(to_float_1.dtype)\n",
        "\n",
        "to_float_2 = int_points.to(dtype=torch.float16)\n",
        "print(to_float_2.dtype)"
      ],
      "metadata": {
        "colab": {
          "base_uri": "https://localhost:8080/"
        },
        "id": "TsszKvjx3dtQ",
        "outputId": "8abc2e37-807b-41a7-b177-ca4a105493dd"
      },
      "execution_count": 13,
      "outputs": [
        {
          "output_type": "stream",
          "name": "stdout",
          "text": [
            "torch.int32\n",
            "torch.int64\n",
            "torch.float32\n",
            "torch.float16\n"
          ]
        }
      ]
    },
    {
      "cell_type": "markdown",
      "source": [
        "## 4. The Tensor API"
      ],
      "metadata": {
        "id": "ccWAOczM36Nf"
      }
    },
    {
      "cell_type": "markdown",
      "source": [
        "tensor와 관련된 대부분의 operation은 torch 모듈에 구현되어 있음\n",
        "\n",
        "예)\n",
        "\n",
        "- math operations: abs, cos, mean, std, norm, equal, max, ...\n",
        "- tensor element-wise sum, concat, ...\n",
        "- random sampling: randn, normal, ...\n",
        "online docs: https://pytorch.org/docs"
      ],
      "metadata": {
        "id": "M_m5en8n6wmM"
      }
    },
    {
      "cell_type": "markdown",
      "source": [
        "## 5. Tensor Shape and Reshape\n"
      ],
      "metadata": {
        "id": "sTN_N9CV64sd"
      }
    },
    {
      "cell_type": "code",
      "source": [
        "# shape: Returns the size of the tensor\n",
        "\n",
        "a = torch.Tensor([[1, 2, 3], [4, 5, 6]])\n",
        "\n",
        "print(a)\n",
        "print(a.shape)\n",
        "\n",
        "# size()\n",
        "\n",
        "print(a.size())\n",
        "\n",
        "# Reshape: 주어진 shape로 original tensor에서 데이터를 가져와서 reshape한다\n",
        "\n",
        "a_reshape = a.reshape(3, 2)\n",
        "print(a_reshape)\n",
        "print(a_reshape.shape)\n",
        "\n",
        "a_reshape_2 = a.reshape(-1, 2) # the size -1 is inferred from other dimensions\n",
        "print(a_reshape_2)\n",
        "print(a_reshape_2.shape)"
      ],
      "metadata": {
        "colab": {
          "base_uri": "https://localhost:8080/"
        },
        "id": "bBPVWsLM3ysY",
        "outputId": "16e20d99-e041-4ffe-b756-30486fe5624f"
      },
      "execution_count": 15,
      "outputs": [
        {
          "output_type": "stream",
          "name": "stdout",
          "text": [
            "tensor([[1., 2., 3.],\n",
            "        [4., 5., 6.]])\n",
            "torch.Size([2, 3])\n",
            "torch.Size([2, 3])\n",
            "tensor([[1., 2.],\n",
            "        [3., 4.],\n",
            "        [5., 6.]])\n",
            "torch.Size([3, 2])\n",
            "tensor([[1., 2.],\n",
            "        [3., 4.],\n",
            "        [5., 6.]])\n",
            "torch.Size([3, 2])\n"
          ]
        }
      ]
    },
    {
      "cell_type": "code",
      "source": [
        "# if shape is not compatible with the current shape:\n",
        "\n",
        "a_no_reshape = a.reshape(4, 2)"
      ],
      "metadata": {
        "colab": {
          "base_uri": "https://localhost:8080/",
          "height": 209
        },
        "id": "W5516rIo7CCJ",
        "outputId": "e31913fc-5ed4-4e57-b596-241d27d3eb86"
      },
      "execution_count": 16,
      "outputs": [
        {
          "output_type": "error",
          "ename": "RuntimeError",
          "evalue": "ignored",
          "traceback": [
            "\u001b[0;31m---------------------------------------------------------------------------\u001b[0m",
            "\u001b[0;31mRuntimeError\u001b[0m                              Traceback (most recent call last)",
            "\u001b[0;32m<ipython-input-16-e7e11191c3b2>\u001b[0m in \u001b[0;36m<module>\u001b[0;34m()\u001b[0m\n\u001b[1;32m      1\u001b[0m \u001b[0;31m# if shape is not compatible with the current shape:\u001b[0m\u001b[0;34m\u001b[0m\u001b[0;34m\u001b[0m\u001b[0;34m\u001b[0m\u001b[0m\n\u001b[1;32m      2\u001b[0m \u001b[0;34m\u001b[0m\u001b[0m\n\u001b[0;32m----> 3\u001b[0;31m \u001b[0ma_no_reshape\u001b[0m \u001b[0;34m=\u001b[0m \u001b[0ma\u001b[0m\u001b[0;34m.\u001b[0m\u001b[0mreshape\u001b[0m\u001b[0;34m(\u001b[0m\u001b[0;36m4\u001b[0m\u001b[0;34m,\u001b[0m \u001b[0;36m2\u001b[0m\u001b[0;34m)\u001b[0m\u001b[0;34m\u001b[0m\u001b[0;34m\u001b[0m\u001b[0m\n\u001b[0m",
            "\u001b[0;31mRuntimeError\u001b[0m: shape '[4, 2]' is invalid for input of size 6"
          ]
        }
      ]
    },
    {
      "cell_type": "code",
      "source": [
        "# View: Returns a new tensor with the same data as the original tensor but of a different shape.\n",
        "# reshape과 거의 비슷하게 사용\n",
        "\n",
        "x = torch.randn(4, 4)\n",
        "print(x.size())\n",
        "\n",
        "y = x.view(16)\n",
        "print(y.size())\n",
        "\n",
        "z = x.view(-1, 8)  # the size -1 is inferred from other dimensions\n",
        "print(z.size())"
      ],
      "metadata": {
        "colab": {
          "base_uri": "https://localhost:8080/"
        },
        "id": "_HSjb9e-7K0U",
        "outputId": "6b182521-26ba-4645-ad9d-3879620fa1c1"
      },
      "execution_count": 17,
      "outputs": [
        {
          "output_type": "stream",
          "name": "stdout",
          "text": [
            "torch.Size([4, 4])\n",
            "torch.Size([16])\n",
            "torch.Size([2, 8])\n"
          ]
        }
      ]
    },
    {
      "cell_type": "markdown",
      "source": [
        "## 6. Transpose\n"
      ],
      "metadata": {
        "id": "xb88GzPv7Na1"
      }
    },
    {
      "cell_type": "code",
      "source": [
        "# torch.t: 가장 간단한 형태의 transpose\n",
        "# Expects input to be <= 2-D tensor and transposes dimensions 0 and 1.\n",
        "# 0-D and 1-D tensors are returned as is. When input is a 2-D tensor this is equivalent to transpose(input, 0, 1).\n",
        "\n",
        "x = torch.randn(1)\n",
        "print(x)\n",
        "print(torch.t(x))\n",
        "\n",
        "y = torch.randn(3)\n",
        "print(y)\n",
        "print(y.t())\n",
        "\n",
        "z = torch.randn(2, 3)\n",
        "print(z)\n",
        "print(torch.t(z))\n",
        "\n",
        "\n",
        "# torch.transpose\n",
        "# Returns a tensor that is a transposed version of input. The given dimensions dim0 and dim1 are swapped.\n",
        "\n",
        "w = torch.randn(2, 3)\n",
        "print(w)\n",
        "print(torch.transpose(w, 0, 1))\n",
        "\n",
        "\n",
        "# more complex case\n",
        "\n",
        "real_example = torch.randn(64, 128, 768)\n",
        "print(real_example.shape)\n",
        "transposed = torch.transpose(real_example, 1, 2)\n",
        "print(transposed.shape)"
      ],
      "metadata": {
        "colab": {
          "base_uri": "https://localhost:8080/"
        },
        "id": "x-iUg3CZ7L62",
        "outputId": "1983ec43-e48c-4c6b-b51a-2c4a333a9cf3"
      },
      "execution_count": 18,
      "outputs": [
        {
          "output_type": "stream",
          "name": "stdout",
          "text": [
            "tensor([-0.8602])\n",
            "tensor([-0.8602])\n",
            "tensor([-0.1817,  1.3568, -0.4010])\n",
            "tensor([-0.1817,  1.3568, -0.4010])\n",
            "tensor([[-0.0831, -1.1055, -0.8917],\n",
            "        [-0.5456, -1.1189, -0.4829]])\n",
            "tensor([[-0.0831, -0.5456],\n",
            "        [-1.1055, -1.1189],\n",
            "        [-0.8917, -0.4829]])\n",
            "tensor([[ 1.2396, -0.0704,  0.4436],\n",
            "        [ 1.6950, -0.0430,  0.8594]])\n",
            "tensor([[ 1.2396,  1.6950],\n",
            "        [-0.0704, -0.0430],\n",
            "        [ 0.4436,  0.8594]])\n",
            "torch.Size([64, 128, 768])\n",
            "torch.Size([64, 768, 128])\n"
          ]
        }
      ]
    },
    {
      "cell_type": "markdown",
      "source": [
        "## 7. Operations Example\n"
      ],
      "metadata": {
        "id": "fky9C47R7Vb-"
      }
    },
    {
      "cell_type": "code",
      "source": [
        "x = torch.ones(1, 2)\n",
        "print(x)\n",
        "y = torch.ones(5, 3)\n",
        "print(y)"
      ],
      "metadata": {
        "colab": {
          "base_uri": "https://localhost:8080/"
        },
        "id": "71IRw5BA7RJ4",
        "outputId": "01123480-095f-4590-8adc-26bd86d6e316"
      },
      "execution_count": 20,
      "outputs": [
        {
          "output_type": "stream",
          "name": "stdout",
          "text": [
            "tensor([[1., 1.]])\n",
            "tensor([[1., 1., 1.],\n",
            "        [1., 1., 1.],\n",
            "        [1., 1., 1.],\n",
            "        [1., 1., 1.],\n",
            "        [1., 1., 1.]])\n"
          ]
        }
      ]
    },
    {
      "cell_type": "code",
      "source": [
        "print(x+y)"
      ],
      "metadata": {
        "colab": {
          "base_uri": "https://localhost:8080/",
          "height": 191
        },
        "id": "I8m0VVay7Xt5",
        "outputId": "375f3bbe-5f53-4168-9cfd-b9d1176e7a18"
      },
      "execution_count": 21,
      "outputs": [
        {
          "output_type": "error",
          "ename": "RuntimeError",
          "evalue": "ignored",
          "traceback": [
            "\u001b[0;31m---------------------------------------------------------------------------\u001b[0m",
            "\u001b[0;31mRuntimeError\u001b[0m                              Traceback (most recent call last)",
            "\u001b[0;32m<ipython-input-21-39cb3db33052>\u001b[0m in \u001b[0;36m<module>\u001b[0;34m()\u001b[0m\n\u001b[0;32m----> 1\u001b[0;31m \u001b[0mprint\u001b[0m\u001b[0;34m(\u001b[0m\u001b[0mx\u001b[0m\u001b[0;34m+\u001b[0m\u001b[0my\u001b[0m\u001b[0;34m)\u001b[0m\u001b[0;34m\u001b[0m\u001b[0;34m\u001b[0m\u001b[0m\n\u001b[0m",
            "\u001b[0;31mRuntimeError\u001b[0m: The size of tensor a (2) must match the size of tensor b (3) at non-singleton dimension 1"
          ]
        }
      ]
    },
    {
      "cell_type": "code",
      "source": [
        "y = torch.ones(5, 2)\n",
        "print(y)\n",
        "\n",
        "# 1.\n",
        "print(x+y)\n",
        "# 2. \n",
        "print(torch.add(x, y))\n",
        "# 3.\n",
        "result = torch.empty(5, 2)\n",
        "torch.add(x, y, out=result)\n",
        "print(result)\n",
        "# 4. inplace\n",
        "print(y.add_(x))"
      ],
      "metadata": {
        "colab": {
          "base_uri": "https://localhost:8080/"
        },
        "id": "U9_5wLVW7dkH",
        "outputId": "22465003-16a9-4b8e-e36d-8a1cd512a2b6"
      },
      "execution_count": 22,
      "outputs": [
        {
          "output_type": "stream",
          "name": "stdout",
          "text": [
            "tensor([[1., 1.],\n",
            "        [1., 1.],\n",
            "        [1., 1.],\n",
            "        [1., 1.],\n",
            "        [1., 1.]])\n",
            "tensor([[2., 2.],\n",
            "        [2., 2.],\n",
            "        [2., 2.],\n",
            "        [2., 2.],\n",
            "        [2., 2.]])\n",
            "tensor([[2., 2.],\n",
            "        [2., 2.],\n",
            "        [2., 2.],\n",
            "        [2., 2.],\n",
            "        [2., 2.]])\n",
            "tensor([[2., 2.],\n",
            "        [2., 2.],\n",
            "        [2., 2.],\n",
            "        [2., 2.],\n",
            "        [2., 2.]])\n",
            "tensor([[2., 2.],\n",
            "        [2., 2.],\n",
            "        [2., 2.],\n",
            "        [2., 2.],\n",
            "        [2., 2.]])\n"
          ]
        }
      ]
    },
    {
      "cell_type": "markdown",
      "source": [
        "### Additional Information\n"
      ],
      "metadata": {
        "id": "j8c13QY57xPd"
      }
    },
    {
      "cell_type": "markdown",
      "source": [
        "- torch 연산(transpose, indexing, slicing, mathematical operations, linear algebra 등)은 아래 링크에서 추가로 확인 가능\n",
        "- https://pytorch.org/docs/stable/torch.html"
      ],
      "metadata": {
        "id": "yDub2M1j7iCW"
      }
    },
    {
      "cell_type": "markdown",
      "source": [
        "### Reference: Moving tensors to the GPU\n"
      ],
      "metadata": {
        "id": "0LIa1dgN7tnq"
      }
    },
    {
      "cell_type": "markdown",
      "source": [
        "if you are using Google Colaboratory, please set the runtime type to GPUs.\n",
        "\n",
        "화면 상단 런타임 >> 런타임 유형 변경 >> 하드웨어 가속기 GPU 선택"
      ],
      "metadata": {
        "id": "JT2zjLTH70FB"
      }
    },
    {
      "cell_type": "code",
      "source": [
        "torch.cuda.is_available()"
      ],
      "metadata": {
        "colab": {
          "base_uri": "https://localhost:8080/"
        },
        "id": "kyQ-mHnx7gBA",
        "outputId": "79f9ec89-005b-4901-e9ea-ec39b397e450"
      },
      "execution_count": 23,
      "outputs": [
        {
          "output_type": "execute_result",
          "data": {
            "text/plain": [
              "True"
            ]
          },
          "metadata": {},
          "execution_count": 23
        }
      ]
    },
    {
      "cell_type": "code",
      "source": [
        "import torch # 런타임 유형을 변경하면 colab 세션이 초기화될 수 있음\n",
        "\n",
        "points_gpu = torch.tensor([[4.0, 1.0], [5.0, 3.0], [2.0, 1.0]], device='cuda')\n",
        "\n",
        "print(points_gpu)\n",
        "points = torch.randn(2, 3)\n",
        "points_gpu = points.to(device='cuda')\n",
        "\n",
        "print(points_gpu)"
      ],
      "metadata": {
        "colab": {
          "base_uri": "https://localhost:8080/"
        },
        "id": "SzO-K3fR71wt",
        "outputId": "16f3e251-878e-49ff-8526-7b4f37d7f01b"
      },
      "execution_count": 24,
      "outputs": [
        {
          "output_type": "stream",
          "name": "stdout",
          "text": [
            "tensor([[4., 1.],\n",
            "        [5., 3.],\n",
            "        [2., 1.]], device='cuda:0')\n",
            "tensor([[-0.0731, -1.1481,  0.6445],\n",
            "        [ 0.1169, -0.3721, -1.8293]], device='cuda:0')\n"
          ]
        }
      ]
    },
    {
      "cell_type": "markdown",
      "source": [
        "If our machine has more than one GPU, we can also decide on which GPU we allocate the tensor by passing a zero-based integer identifying the GPU on the machine, such as cuda:0, cuda:1, ..."
      ],
      "metadata": {
        "id": "I6bZ5fuP77h1"
      }
    },
    {
      "cell_type": "code",
      "source": [
        "points_gpu_0 = points.to(device='cuda:0')\n",
        "print(points_gpu_0)\n",
        "# operations performed on CPU and GPU\n",
        "\n",
        "points = 2 * points   # cpu에서 계산 수행\n",
        "print(points)\n",
        "\n",
        "points_op_gpu = 2 * points.to(device='cuda')  # gpu에서 계산 수행\n",
        "print(points_op_gpu)\n",
        "# move the tensor back to the CPU\n",
        "\n",
        "points_cpu = points_gpu_0.to(device='cpu')\n",
        "print(points_cpu)\n",
        "print(points_cpu.device)\n",
        "# shorter forms\n",
        "points_gpu = points.cuda()\n",
        "print(points_gpu)\n",
        "\n",
        "points_gpu = points.cuda(0)\n",
        "print(points_gpu)\n",
        "\n",
        "points_cpu = points_gpu.cpu()\n",
        "print(points_cpu)"
      ],
      "metadata": {
        "colab": {
          "base_uri": "https://localhost:8080/"
        },
        "id": "xhWlL_7a75f0",
        "outputId": "23e11b10-3e46-4f01-c297-b89a23fdeb54"
      },
      "execution_count": 25,
      "outputs": [
        {
          "output_type": "stream",
          "name": "stdout",
          "text": [
            "tensor([[-0.0731, -1.1481,  0.6445],\n",
            "        [ 0.1169, -0.3721, -1.8293]], device='cuda:0')\n",
            "tensor([[-0.1461, -2.2963,  1.2891],\n",
            "        [ 0.2339, -0.7443, -3.6587]])\n",
            "tensor([[-0.2923, -4.5926,  2.5781],\n",
            "        [ 0.4677, -1.4886, -7.3173]], device='cuda:0')\n",
            "tensor([[-0.0731, -1.1481,  0.6445],\n",
            "        [ 0.1169, -0.3721, -1.8293]])\n",
            "cpu\n",
            "tensor([[-0.1461, -2.2963,  1.2891],\n",
            "        [ 0.2339, -0.7443, -3.6587]], device='cuda:0')\n",
            "tensor([[-0.1461, -2.2963,  1.2891],\n",
            "        [ 0.2339, -0.7443, -3.6587]], device='cuda:0')\n",
            "tensor([[-0.1461, -2.2963,  1.2891],\n",
            "        [ 0.2339, -0.7443, -3.6587]])\n"
          ]
        }
      ]
    },
    {
      "cell_type": "markdown",
      "source": [
        "## 8. Numpy Interpretability\n"
      ],
      "metadata": {
        "id": "jJx_Wctq8BAd"
      }
    },
    {
      "cell_type": "markdown",
      "source": [
        "PyTorch tensors can be converted to NumPy arrays and vice versa very efficiently."
      ],
      "metadata": {
        "id": "aOIMVVDM8C1T"
      }
    },
    {
      "cell_type": "code",
      "source": [
        "# tensor to numpy array\n",
        "\n",
        "points = torch.ones(3, 4)\n",
        "points_np = points.numpy()\n",
        "\n",
        "print(points_np)\n",
        "\n",
        "\n",
        "# numpy arrray to tensor\n",
        "\n",
        "points = torch.from_numpy(points_np)\n",
        "\n",
        "print(points)"
      ],
      "metadata": {
        "colab": {
          "base_uri": "https://localhost:8080/"
        },
        "id": "k3qwHwPU7_3p",
        "outputId": "4bf048ae-a454-4b47-b662-253877c12d0d"
      },
      "execution_count": 26,
      "outputs": [
        {
          "output_type": "stream",
          "name": "stdout",
          "text": [
            "[[1. 1. 1. 1.]\n",
            " [1. 1. 1. 1.]\n",
            " [1. 1. 1. 1.]]\n",
            "tensor([[1., 1., 1., 1.],\n",
            "        [1., 1., 1., 1.],\n",
            "        [1., 1., 1., 1.]])\n"
          ]
        }
      ]
    },
    {
      "cell_type": "markdown",
      "source": [
        "## 9. Save and load tensors\n"
      ],
      "metadata": {
        "id": "LkSP1Ov78INz"
      }
    },
    {
      "cell_type": "markdown",
      "source": [
        "save tensors to a file and load them back at some point\n",
        "\n",
        "PyTorch uses pickle under the hood to serialize the tensor object, plus dedicated serialization code for the storage."
      ],
      "metadata": {
        "id": "HUjuqXl48KUU"
      }
    },
    {
      "cell_type": "code",
      "source": [
        "print(points)\n",
        "\n",
        "torch.save(points, './points_temp.t')\n",
        "load_points = torch.load('./points_temp.t')\n",
        "print(load_points)"
      ],
      "metadata": {
        "id": "I_IrzDSG8G7p"
      },
      "execution_count": null,
      "outputs": []
    }
  ]
}